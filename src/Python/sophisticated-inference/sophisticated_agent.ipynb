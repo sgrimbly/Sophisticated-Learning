{
 "cells": [
  {
   "cell_type": "markdown",
   "metadata": {},
   "source": [
    "# Sophisticated Inference Agent"
   ]
  },
  {
   "cell_type": "code",
   "execution_count": 1,
   "metadata": {},
   "outputs": [],
   "source": [
    "import sys\n",
    "import os\n",
    "from datetime import datetime\n",
    "\n",
    "# Add the parent directory to sys.path so Python can find the sibling directories\n",
    "sys.path.insert(0, os.path.abspath('..'))\n",
    "\n",
    "# Importing standard library\n",
    "import numpy as np\n",
    "import random\n",
    "import matplotlib.pyplot as plt\n",
    "from datetime import datetime\n",
    "from contextlib import redirect_stdout\n",
    "import logging\n",
    "\n",
    "# Importing local modules\n",
    "from agent_utils import initialise_distributions\n",
    "from math_utils import round_half_up\n",
    "from sophisticated_inference import agent_loop"
   ]
  },
  {
   "cell_type": "code",
   "execution_count": 2,
   "metadata": {},
   "outputs": [],
   "source": [
    "# Set True to visualise the agent's behaviour using Matplotlib\n",
    "VISUALISE = False\n",
    "ax = None\n",
    "if VISUALISE:\n",
    "    # Plotting commands should open in a new window\n",
    "    %matplotlib qt\n",
    "    fig, ax = plt.subplots()\n",
    "    plt.ion()  # Turn on interactive mode"
   ]
  },
  {
   "cell_type": "markdown",
   "metadata": {},
   "source": [
    "![](../figures/Agent_GenerativeModelComponents.png)"
   ]
  },
  {
   "cell_type": "markdown",
   "metadata": {},
   "source": [
    "### Complete Recipe for Active Inference \n",
    "_Taken from PyMDP Active Inference Tutorial_\n",
    "1. Sample an observation $o_t$ from the current state of the environment.\n",
    "2. Perform inference over hidden states i.e., optimize $q(s)$ through free-energy minimization.\n",
    "3. Calculate expected free energy of actions $\\mathbf{G}$.\n",
    "4. Sample action from the posterior over actions $Q(u_t) \\sim \\sigma(-\\mathbf{G})$.\n",
    "5. Use the sampled action $a_t$ to perturb the generative process and go back to step 1."
   ]
  },
  {
   "cell_type": "code",
   "execution_count": 3,
   "metadata": {},
   "outputs": [],
   "source": [
    "# Experimental/environmental hyperparams\n",
    "num_trials = 99\n",
    "num_states = 100\n",
    "num_factors = 2\n",
    "num_contextual_states = 4\n",
    "contextual_food_locations = [70,42,56,77]\n",
    "contextual_water_locations = [72,32,47,66]\n",
    "contextual_sleep_locations = [63,43,48,58] \n",
    "hill_1 = 54 \n",
    "\n",
    "# Agentic hyperparams\n",
    "num_modalities = 3\n",
    "num_resource_observations = 4 # [none, food, water, sleep]\n",
    "num_context_observations = 5 # [summer, autumn, winter, spring, none]\n",
    "t_constraint = 100\n",
    "resource_constraints = {\"Food\":21,\"Water\":19,\"Sleep\":24}\n",
    "start_position = 50\n",
    "\n",
    "# Tree search hyperparams\n",
    "weights = {\"Novelty\":10, \"Learning\":40, \"Epistemic\":1, \"Preference\":10}\n",
    "G_prior = 0.02"
   ]
  },
  {
   "cell_type": "code",
   "execution_count": 4,
   "metadata": {},
   "outputs": [],
   "source": [
    "# Distributions\n",
    "A, a, B, b, D = initialise_distributions(\n",
    "    num_states,\n",
    "    contextual_food_locations,\n",
    "    contextual_water_locations,\n",
    "    contextual_sleep_locations,\n",
    "    hill_1,\n",
    "    start_position)"
   ]
  },
  {
   "cell_type": "markdown",
   "metadata": {},
   "source": [
    "Let's check the shapes of the key distributions used in sophisticated inference. "
   ]
  },
  {
   "cell_type": "code",
   "execution_count": 5,
   "metadata": {},
   "outputs": [
    {
     "name": "stdout",
     "output_type": "stream",
     "text": [
      "Shapes of Variables:\n",
      "Variable            Shape               \n",
      "----------------------------------------\n",
      "B[0]                (100, 100, 5)       \n",
      "B[1]                (4, 4, 5)           \n",
      "b[0]                (100, 100, 5)       \n",
      "b[1]                (4, 4, 5)           \n",
      "a[0]                (100, 100, 4)       \n",
      "a[1]                (4, 100, 4)         \n",
      "a[2]                (5, 100, 4)         \n",
      "A[0]                (100, 100, 4)       \n",
      "A[1]                (4, 100, 4)         \n",
      "A[2]                (5, 100, 4)         \n",
      "D[1]                (100, 1)            \n",
      "D[2]                (4, 1)              \n"
     ]
    }
   ],
   "source": [
    "print(f\"Shapes of Variables:\")\n",
    "print(f\"{'Variable':<20}{'Shape':<20}\")\n",
    "print(f\"{'-'*20}{'-'*20}\")\n",
    "print(f\"{'B[0]':<20}{str(B[0].shape):<20}\")\n",
    "print(f\"{'B[1]':<20}{str(B[1].shape):<20}\")\n",
    "print(f\"{'b[0]':<20}{str(b[0].shape):<20}\")\n",
    "print(f\"{'b[1]':<20}{str(b[1].shape):<20}\")\n",
    "#print(f\"{'chosen_action':<20}{str(chosen_action.shape):<20}\")\n",
    "print(f\"{'a[0]':<20}{str(a[0].shape):<20}\")\n",
    "print(f\"{'a[1]':<20}{str(a[1].shape):<20}\")\n",
    "print(f\"{'a[2]':<20}{str(a[2].shape):<20}\")\n",
    "print(f\"{'A[0]':<20}{str(A[0].shape):<20}\")\n",
    "print(f\"{'A[1]':<20}{str(A[1].shape):<20}\")\n",
    "print(f\"{'A[2]':<20}{str(A[2].shape):<20}\")\n",
    "print(f\"{'D[1]':<20}{str(D[0].shape):<20}\")\n",
    "print(f\"{'D[2]':<20}{str(D[1].shape):<20}\")\n",
    "#print(f\"{'short_term_memory':<20}{str(short_term_memory.shape):<20}\")"
   ]
  },
  {
   "cell_type": "markdown",
   "metadata": {},
   "source": [
    "## Core Agent Logic\n",
    "\n",
    "1. **Initialize Resource Timers and Time Variable:**\n",
    "   - Set `time_since_resource` for \"Food,\" \"Water,\" and \"Sleep\" to 0.\n",
    "   - Initialize the time counter `t` to 0.\n",
    "\n",
    "2. **Begin Main Loop:**\n",
    "   - Continue if `t` is less than `t_constraint` and the agent is still \"alive\" based on resource constraints.\n",
    "\n",
    "3. **Update Environment and Model:**\n",
    "   - Call `update_environment` to modify the environment and agent model based on the selected action, updating historical records of the agent's posterior beliefs and true states.\n",
    "\n",
    "4. **Retrieve Current Beliefs:**\n",
    "   - Get the current belief state `Q` from `historical_agent_posterior_Q`.\n",
    "\n",
    "5. **Update Agent's Needs:**\n",
    "   - Call `update_needs` to modify the time since the agent last had each resource, based on the locations of resources and the agent's current state.\n",
    "\n",
    "6. **Observe Environment:**\n",
    "   - Call `get_observations` to receive the current observations from the environment based on the agent's true state.\n",
    "\n",
    "7. **Backward Smoothing:**\n",
    "   - If the current time `t` is greater than 6, adjust the `start` time for smoothing.\n",
    "   - Perform backward smoothing from the `start` time to the current time `t`.\n",
    "\n",
    "8. **Check Belief Accuracy:**\n",
    "   - Print the length of the `historical_agent_posterior_Q` and its first element for debugging.\n",
    "   - Calculate the state prediction error and the agent's current position.\n",
    "   - If the prediction error is substantial or the agent is in a specific position, reset the agent's short-term memory.\n",
    "\n",
    "9. **Determine Planning Horizon:**\n",
    "   - Calculate the horizon for the tree search, considering the time constraints from the agent's needs.\n",
    "   - Ensure the horizon is at least 1.\n",
    "\n",
    "10. **Perform Tree Search:**\n",
    "    - Initialize the list of best actions.\n",
    "    - Execute the forward tree search to determine the best actions, considering the agent's beliefs, observations, and needs.\n",
    "\n",
    "11. **Record Chosen Action:**\n",
    "    - Append the chosen action to the historical record.\n",
    "\n",
    "12. **(Placeholder) Display Results:**\n",
    "    - A placeholder for future code to display or process the results of this iteration.\n",
    "\n",
    "13. **Prepare for Next Iteration:**\n",
    "    - Increment the time counter `t` for the next loop iteration."
   ]
  },
  {
   "cell_type": "code",
   "execution_count": 6,
   "metadata": {},
   "outputs": [],
   "source": [
    "# Generate a timestamp in the format YYYY-MM-DD_HH-MM-SS\n",
    "timestamp = datetime.now().strftime(\"%Y-%m-%d_%H-%M-%S\")\n",
    "\n",
    "# Configure logging to write to both the console and a log file\n",
    "log_file_path = f\"../../logs/experiment_log_{timestamp}.txt\"\n",
    "log_format = '%(message)s'  # Only display the log message\n",
    "logging.basicConfig(\n",
    "    level=logging.INFO,\n",
    "    format=log_format,\n",
    "    handlers=[\n",
    "        logging.FileHandler(log_file_path, encoding='utf-8'),\n",
    "        logging.StreamHandler()\n",
    "    ]\n",
    ")"
   ]
  },
  {
   "cell_type": "code",
   "execution_count": 7,
   "metadata": {},
   "outputs": [
    {
     "name": "stderr",
     "output_type": "stream",
     "text": [
      "\n",
      "----------------------------------------\n",
      "TRIAL 1 STARTED\n",
      "----------------------------------------\n",
      "Start Time: 2023-11-28 12:59:36\n"
     ]
    },
    {
     "name": "stdout",
     "output_type": "stream",
     "text": [
      "At time 20 the agent is dead.\n",
      "The agent had: 1 food, -1 water, and 4 sleep.\n",
      "The total tree search depth for this trial was 1112.\n",
      "The agent accessed its memory 1754 times.\n",
      "The agent cleared its short-term memory 3 times.\n",
      "    State prediction error memory resets: 2.\n",
      "    Hill memory resets: 1.\n"
     ]
    },
    {
     "name": "stderr",
     "output_type": "stream",
     "text": [
      "TRIAL 1 COMPLETE ✔\n",
      "End Time: 2023-11-28 12:59:37\n",
      "Total runtime for this trial (minutes/seconds): 00:01\n",
      "----------------------------------------\n",
      "Total hill visits: 1\n",
      "Total prediction errors: 2\n",
      "Total search depth: 1112\n",
      "Total times memory accessed: 1754\n",
      "Total times 24 >= t < 49: 0\n",
      "Total times 49 >= t < 74: 0\n",
      "Total times 74 >= t < 99: 0\n",
      "Total times t == 99: 0\n",
      "Total time steps survived: 20\n",
      "Total runtime so far (hours/minutes/seconds): 00:00:01\n",
      "----------------------------------------\n",
      "\n",
      "----------------------------------------\n",
      "TRIAL 2 STARTED\n",
      "----------------------------------------\n",
      "Start Time: 2023-11-28 12:59:37\n"
     ]
    },
    {
     "name": "stdout",
     "output_type": "stream",
     "text": [
      "At time 20 the agent is dead.\n",
      "The agent had: 1 food, -1 water, and 4 sleep.\n",
      "The total tree search depth for this trial was 1606.\n",
      "The agent accessed its memory 3442 times.\n",
      "The agent cleared its short-term memory 7 times.\n",
      "    State prediction error memory resets: 7.\n",
      "    Hill memory resets: 0.\n"
     ]
    },
    {
     "name": "stderr",
     "output_type": "stream",
     "text": [
      "TRIAL 2 COMPLETE ✔\n",
      "End Time: 2023-11-28 12:59:40\n",
      "Total runtime for this trial (minutes/seconds): 00:02\n",
      "----------------------------------------\n",
      "Total hill visits: 1\n",
      "Total prediction errors: 9\n",
      "Total search depth: 2718\n",
      "Total times memory accessed: 5196\n",
      "Total times 24 >= t < 49: 0\n",
      "Total times 49 >= t < 74: 0\n",
      "Total times 74 >= t < 99: 0\n",
      "Total times t == 99: 0\n",
      "Total time steps survived: 40\n",
      "Total runtime so far (hours/minutes/seconds): 00:00:03\n",
      "----------------------------------------\n",
      "\n",
      "----------------------------------------\n",
      "TRIAL 3 STARTED\n",
      "----------------------------------------\n",
      "Start Time: 2023-11-28 12:59:40\n"
     ]
    },
    {
     "name": "stdout",
     "output_type": "stream",
     "text": [
      "At time 20 the agent is dead.\n",
      "The agent had: 1 food, -1 water, and 4 sleep.\n",
      "The total tree search depth for this trial was 621.\n",
      "The agent accessed its memory 1798 times.\n",
      "The agent cleared its short-term memory 9 times.\n",
      "    State prediction error memory resets: 9.\n",
      "    Hill memory resets: 0.\n"
     ]
    },
    {
     "name": "stderr",
     "output_type": "stream",
     "text": [
      "TRIAL 3 COMPLETE ✔\n",
      "End Time: 2023-11-28 12:59:41\n",
      "Total runtime for this trial (minutes/seconds): 00:01\n",
      "----------------------------------------\n",
      "Total hill visits: 1\n",
      "Total prediction errors: 18\n",
      "Total search depth: 3339\n",
      "Total times memory accessed: 6994\n",
      "Total times 24 >= t < 49: 0\n",
      "Total times 49 >= t < 74: 0\n",
      "Total times 74 >= t < 99: 0\n",
      "Total times t == 99: 0\n",
      "Total time steps survived: 60\n",
      "Total runtime so far (hours/minutes/seconds): 00:00:05\n",
      "----------------------------------------\n",
      "\n",
      "----------------------------------------\n",
      "TRIAL 4 STARTED\n",
      "----------------------------------------\n",
      "Start Time: 2023-11-28 12:59:41\n"
     ]
    },
    {
     "name": "stdout",
     "output_type": "stream",
     "text": [
      "At time 20 the agent is dead.\n",
      "The agent had: 1 food, -1 water, and 4 sleep.\n",
      "The total tree search depth for this trial was 573.\n",
      "The agent accessed its memory 1588 times.\n",
      "The agent cleared its short-term memory 7 times.\n",
      "    State prediction error memory resets: 5.\n",
      "    Hill memory resets: 2.\n"
     ]
    },
    {
     "name": "stderr",
     "output_type": "stream",
     "text": [
      "TRIAL 4 COMPLETE ✔\n",
      "End Time: 2023-11-28 12:59:43\n",
      "Total runtime for this trial (minutes/seconds): 00:01\n",
      "----------------------------------------\n",
      "Total hill visits: 3\n",
      "Total prediction errors: 23\n",
      "Total search depth: 3912\n",
      "Total times memory accessed: 8582\n",
      "Total times 24 >= t < 49: 0\n",
      "Total times 49 >= t < 74: 0\n",
      "Total times 74 >= t < 99: 0\n",
      "Total times t == 99: 0\n",
      "Total time steps survived: 80\n",
      "Total runtime so far (hours/minutes/seconds): 00:00:06\n",
      "----------------------------------------\n",
      "\n",
      "----------------------------------------\n",
      "TRIAL 5 STARTED\n",
      "----------------------------------------\n",
      "Start Time: 2023-11-28 12:59:43\n"
     ]
    },
    {
     "name": "stdout",
     "output_type": "stream",
     "text": [
      "At time 20 the agent is dead.\n",
      "The agent had: 1 food, -1 water, and 4 sleep.\n",
      "The total tree search depth for this trial was 1071.\n",
      "The agent accessed its memory 2948 times.\n",
      "The agent cleared its short-term memory 4 times.\n",
      "    State prediction error memory resets: 4.\n",
      "    Hill memory resets: 0.\n"
     ]
    },
    {
     "name": "stderr",
     "output_type": "stream",
     "text": [
      "TRIAL 5 COMPLETE ✔\n",
      "End Time: 2023-11-28 12:59:45\n",
      "Total runtime for this trial (minutes/seconds): 00:02\n",
      "----------------------------------------\n",
      "Total hill visits: 3\n",
      "Total prediction errors: 27\n",
      "Total search depth: 4983\n",
      "Total times memory accessed: 11530\n",
      "Total times 24 >= t < 49: 0\n",
      "Total times 49 >= t < 74: 0\n",
      "Total times 74 >= t < 99: 0\n",
      "Total times t == 99: 0\n",
      "Total time steps survived: 100\n",
      "Total runtime so far (hours/minutes/seconds): 00:00:08\n",
      "----------------------------------------\n",
      "\n",
      "----------------------------------------\n",
      "TRIAL 6 STARTED\n",
      "----------------------------------------\n",
      "Start Time: 2023-11-28 12:59:45\n"
     ]
    },
    {
     "name": "stdout",
     "output_type": "stream",
     "text": [
      "At time 20 the agent is dead.\n",
      "The agent had: 1 food, -1 water, and 4 sleep.\n",
      "The total tree search depth for this trial was 968.\n",
      "The agent accessed its memory 2596 times.\n",
      "The agent cleared its short-term memory 8 times.\n",
      "    State prediction error memory resets: 6.\n",
      "    Hill memory resets: 2.\n"
     ]
    },
    {
     "name": "stderr",
     "output_type": "stream",
     "text": [
      "TRIAL 6 COMPLETE ✔\n",
      "End Time: 2023-11-28 12:59:47\n",
      "Total runtime for this trial (minutes/seconds): 00:02\n",
      "----------------------------------------\n",
      "Total hill visits: 5\n",
      "Total prediction errors: 33\n",
      "Total search depth: 5951\n",
      "Total times memory accessed: 14126\n",
      "Total times 24 >= t < 49: 0\n",
      "Total times 49 >= t < 74: 0\n",
      "Total times 74 >= t < 99: 0\n",
      "Total times t == 99: 0\n",
      "Total time steps survived: 120\n",
      "Total runtime so far (hours/minutes/seconds): 00:00:10\n",
      "----------------------------------------\n",
      "\n",
      "----------------------------------------\n",
      "TRIAL 7 STARTED\n",
      "----------------------------------------\n",
      "Start Time: 2023-11-28 12:59:47\n"
     ]
    },
    {
     "name": "stdout",
     "output_type": "stream",
     "text": [
      "At time 20 the agent is dead.\n",
      "The agent had: 1 food, -1 water, and 4 sleep.\n",
      "The total tree search depth for this trial was 1141.\n",
      "The agent accessed its memory 3097 times.\n",
      "The agent cleared its short-term memory 10 times.\n",
      "    State prediction error memory resets: 10.\n",
      "    Hill memory resets: 0.\n"
     ]
    },
    {
     "name": "stderr",
     "output_type": "stream",
     "text": [
      "TRIAL 7 COMPLETE ✔\n",
      "End Time: 2023-11-28 12:59:49\n",
      "Total runtime for this trial (minutes/seconds): 00:02\n",
      "----------------------------------------\n",
      "Total hill visits: 5\n",
      "Total prediction errors: 43\n",
      "Total search depth: 7092\n",
      "Total times memory accessed: 17223\n",
      "Total times 24 >= t < 49: 0\n",
      "Total times 49 >= t < 74: 0\n",
      "Total times 74 >= t < 99: 0\n",
      "Total times t == 99: 0\n",
      "Total time steps survived: 140\n",
      "Total runtime so far (hours/minutes/seconds): 00:00:12\n",
      "----------------------------------------\n",
      "\n",
      "----------------------------------------\n",
      "TRIAL 8 STARTED\n",
      "----------------------------------------\n",
      "Start Time: 2023-11-28 12:59:49\n"
     ]
    },
    {
     "name": "stdout",
     "output_type": "stream",
     "text": [
      "At time 20 the agent is dead.\n",
      "The agent had: 1 food, -1 water, and 4 sleep.\n",
      "The total tree search depth for this trial was 865.\n",
      "The agent accessed its memory 2654 times.\n",
      "The agent cleared its short-term memory 4 times.\n",
      "    State prediction error memory resets: 4.\n",
      "    Hill memory resets: 0.\n"
     ]
    },
    {
     "name": "stderr",
     "output_type": "stream",
     "text": [
      "TRIAL 8 COMPLETE ✔\n",
      "End Time: 2023-11-28 12:59:51\n",
      "Total runtime for this trial (minutes/seconds): 00:01\n",
      "----------------------------------------\n",
      "Total hill visits: 5\n",
      "Total prediction errors: 47\n",
      "Total search depth: 7957\n",
      "Total times memory accessed: 19877\n",
      "Total times 24 >= t < 49: 0\n",
      "Total times 49 >= t < 74: 0\n",
      "Total times 74 >= t < 99: 0\n",
      "Total times t == 99: 0\n",
      "Total time steps survived: 160\n",
      "Total runtime so far (hours/minutes/seconds): 00:00:14\n",
      "----------------------------------------\n",
      "\n",
      "----------------------------------------\n",
      "TRIAL 9 STARTED\n",
      "----------------------------------------\n",
      "Start Time: 2023-11-28 12:59:51\n"
     ]
    },
    {
     "name": "stdout",
     "output_type": "stream",
     "text": [
      "At time 20 the agent is dead.\n",
      "The agent had: 1 food, -1 water, and 4 sleep.\n",
      "The total tree search depth for this trial was 1028.\n",
      "The agent accessed its memory 2619 times.\n",
      "The agent cleared its short-term memory 7 times.\n",
      "    State prediction error memory resets: 6.\n",
      "    Hill memory resets: 1.\n"
     ]
    },
    {
     "name": "stderr",
     "output_type": "stream",
     "text": [
      "TRIAL 9 COMPLETE ✔\n",
      "End Time: 2023-11-28 12:59:53\n",
      "Total runtime for this trial (minutes/seconds): 00:01\n",
      "----------------------------------------\n",
      "Total hill visits: 6\n",
      "Total prediction errors: 53\n",
      "Total search depth: 8985\n",
      "Total times memory accessed: 22496\n",
      "Total times 24 >= t < 49: 0\n",
      "Total times 49 >= t < 74: 0\n",
      "Total times 74 >= t < 99: 0\n",
      "Total times t == 99: 0\n",
      "Total time steps survived: 180\n",
      "Total runtime so far (hours/minutes/seconds): 00:00:16\n",
      "----------------------------------------\n",
      "\n",
      "----------------------------------------\n",
      "TRIAL 10 STARTED\n",
      "----------------------------------------\n",
      "Start Time: 2023-11-28 12:59:53\n"
     ]
    },
    {
     "name": "stdout",
     "output_type": "stream",
     "text": [
      "At time 22 the agent is dead.\n",
      "The agent had: -1 food, 17 water, and 2 sleep.\n",
      "The total tree search depth for this trial was 1557.\n",
      "The agent accessed its memory 4762 times.\n",
      "The agent cleared its short-term memory 7 times.\n",
      "    State prediction error memory resets: 7.\n",
      "    Hill memory resets: 0.\n"
     ]
    },
    {
     "name": "stderr",
     "output_type": "stream",
     "text": [
      "TRIAL 10 COMPLETE ✔\n",
      "End Time: 2023-11-28 12:59:57\n",
      "Total runtime for this trial (minutes/seconds): 00:03\n",
      "----------------------------------------\n",
      "Total hill visits: 6\n",
      "Total prediction errors: 60\n",
      "Total search depth: 10542\n",
      "Total times memory accessed: 27258\n",
      "Total times 24 >= t < 49: 0\n",
      "Total times 49 >= t < 74: 0\n",
      "Total times 74 >= t < 99: 0\n",
      "Total times t == 99: 0\n",
      "Total time steps survived: 202\n",
      "Total runtime so far (hours/minutes/seconds): 00:00:20\n",
      "----------------------------------------\n",
      "\n",
      "----------------------------------------\n",
      "TRIAL 11 STARTED\n",
      "----------------------------------------\n",
      "Start Time: 2023-11-28 12:59:57\n"
     ]
    },
    {
     "name": "stdout",
     "output_type": "stream",
     "text": [
      "At time 22 the agent is dead.\n",
      "The agent had: -1 food, 19 water, and 20 sleep.\n",
      "The total tree search depth for this trial was 10809.\n",
      "The agent accessed its memory 28722 times.\n",
      "The agent cleared its short-term memory 9 times.\n",
      "    State prediction error memory resets: 8.\n",
      "    Hill memory resets: 1.\n"
     ]
    },
    {
     "name": "stderr",
     "output_type": "stream",
     "text": [
      "TRIAL 11 COMPLETE ✔\n",
      "End Time: 2023-11-28 13:00:18\n",
      "Total runtime for this trial (minutes/seconds): 00:20\n",
      "----------------------------------------\n",
      "Total hill visits: 7\n",
      "Total prediction errors: 68\n",
      "Total search depth: 21351\n",
      "Total times memory accessed: 55980\n",
      "Total times 24 >= t < 49: 0\n",
      "Total times 49 >= t < 74: 0\n",
      "Total times 74 >= t < 99: 0\n",
      "Total times t == 99: 0\n",
      "Total time steps survived: 224\n",
      "Total runtime so far (hours/minutes/seconds): 00:00:41\n",
      "----------------------------------------\n",
      "\n",
      "----------------------------------------\n",
      "TRIAL 12 STARTED\n",
      "----------------------------------------\n",
      "Start Time: 2023-11-28 13:00:18\n"
     ]
    },
    {
     "name": "stdout",
     "output_type": "stream",
     "text": [
      "At time 22 the agent is dead.\n",
      "The agent had: -1 food, 5 water, and 2 sleep.\n",
      "The total tree search depth for this trial was 4108.\n",
      "The agent accessed its memory 11454 times.\n",
      "The agent cleared its short-term memory 6 times.\n",
      "    State prediction error memory resets: 5.\n",
      "    Hill memory resets: 1.\n"
     ]
    },
    {
     "name": "stderr",
     "output_type": "stream",
     "text": [
      "TRIAL 12 COMPLETE ✔\n",
      "End Time: 2023-11-28 13:00:26\n",
      "Total runtime for this trial (minutes/seconds): 00:07\n",
      "----------------------------------------\n",
      "Total hill visits: 8\n",
      "Total prediction errors: 73\n",
      "Total search depth: 25459\n",
      "Total times memory accessed: 67434\n",
      "Total times 24 >= t < 49: 0\n",
      "Total times 49 >= t < 74: 0\n",
      "Total times 74 >= t < 99: 0\n",
      "Total times t == 99: 0\n",
      "Total time steps survived: 246\n",
      "Total runtime so far (hours/minutes/seconds): 00:00:49\n",
      "----------------------------------------\n",
      "\n",
      "----------------------------------------\n",
      "TRIAL 13 STARTED\n",
      "----------------------------------------\n",
      "Start Time: 2023-11-28 13:00:26\n"
     ]
    },
    {
     "name": "stdout",
     "output_type": "stream",
     "text": [
      "At time 20 the agent is dead.\n",
      "The agent had: 1 food, -1 water, and 4 sleep.\n",
      "The total tree search depth for this trial was 2847.\n",
      "The agent accessed its memory 8289 times.\n",
      "The agent cleared its short-term memory 6 times.\n",
      "    State prediction error memory resets: 5.\n",
      "    Hill memory resets: 1.\n"
     ]
    },
    {
     "name": "stderr",
     "output_type": "stream",
     "text": [
      "TRIAL 13 COMPLETE ✔\n",
      "End Time: 2023-11-28 13:00:32\n",
      "Total runtime for this trial (minutes/seconds): 00:06\n",
      "----------------------------------------\n",
      "Total hill visits: 9\n",
      "Total prediction errors: 78\n",
      "Total search depth: 28306\n",
      "Total times memory accessed: 75723\n",
      "Total times 24 >= t < 49: 0\n",
      "Total times 49 >= t < 74: 0\n",
      "Total times 74 >= t < 99: 0\n",
      "Total times t == 99: 0\n",
      "Total time steps survived: 266\n",
      "Total runtime so far (hours/minutes/seconds): 00:00:55\n",
      "----------------------------------------\n",
      "\n",
      "----------------------------------------\n",
      "TRIAL 14 STARTED\n",
      "----------------------------------------\n",
      "Start Time: 2023-11-28 13:00:32\n"
     ]
    },
    {
     "name": "stdout",
     "output_type": "stream",
     "text": [
      "At time 22 the agent is dead.\n",
      "The agent had: -1 food, 16 water, and 22 sleep.\n",
      "The total tree search depth for this trial was 908.\n",
      "The agent accessed its memory 2119 times.\n",
      "The agent cleared its short-term memory 6 times.\n",
      "    State prediction error memory resets: 5.\n",
      "    Hill memory resets: 1.\n"
     ]
    },
    {
     "name": "stderr",
     "output_type": "stream",
     "text": [
      "TRIAL 14 COMPLETE ✔\n",
      "End Time: 2023-11-28 13:00:33\n",
      "Total runtime for this trial (minutes/seconds): 00:01\n",
      "----------------------------------------\n",
      "Total hill visits: 10\n",
      "Total prediction errors: 83\n",
      "Total search depth: 29214\n",
      "Total times memory accessed: 77842\n",
      "Total times 24 >= t < 49: 0\n",
      "Total times 49 >= t < 74: 0\n",
      "Total times 74 >= t < 99: 0\n",
      "Total times t == 99: 0\n",
      "Total time steps survived: 288\n",
      "Total runtime so far (hours/minutes/seconds): 00:00:57\n",
      "----------------------------------------\n",
      "\n",
      "----------------------------------------\n",
      "TRIAL 15 STARTED\n",
      "----------------------------------------\n",
      "Start Time: 2023-11-28 13:00:33\n"
     ]
    },
    {
     "name": "stdout",
     "output_type": "stream",
     "text": [
      "At time 20 the agent is dead.\n",
      "The agent had: 1 food, -1 water, and 4 sleep.\n",
      "The total tree search depth for this trial was 1559.\n",
      "The agent accessed its memory 4237 times.\n",
      "The agent cleared its short-term memory 10 times.\n",
      "    State prediction error memory resets: 9.\n",
      "    Hill memory resets: 1.\n"
     ]
    },
    {
     "name": "stderr",
     "output_type": "stream",
     "text": [
      "TRIAL 15 COMPLETE ✔\n",
      "End Time: 2023-11-28 13:00:36\n",
      "Total runtime for this trial (minutes/seconds): 00:02\n",
      "----------------------------------------\n",
      "Total hill visits: 11\n",
      "Total prediction errors: 92\n",
      "Total search depth: 30773\n",
      "Total times memory accessed: 82079\n",
      "Total times 24 >= t < 49: 0\n",
      "Total times 49 >= t < 74: 0\n",
      "Total times 74 >= t < 99: 0\n",
      "Total times t == 99: 0\n",
      "Total time steps survived: 308\n",
      "Total runtime so far (hours/minutes/seconds): 00:01:00\n",
      "----------------------------------------\n",
      "\n",
      "----------------------------------------\n",
      "TRIAL 16 STARTED\n",
      "----------------------------------------\n",
      "Start Time: 2023-11-28 13:00:36\n"
     ]
    },
    {
     "name": "stdout",
     "output_type": "stream",
     "text": [
      "At time 20 the agent is dead.\n",
      "The agent had: 7 food, -1 water, and 4 sleep.\n",
      "The total tree search depth for this trial was 7492.\n",
      "The agent accessed its memory 30079 times.\n",
      "The agent cleared its short-term memory 5 times.\n",
      "    State prediction error memory resets: 4.\n",
      "    Hill memory resets: 1.\n"
     ]
    },
    {
     "name": "stderr",
     "output_type": "stream",
     "text": [
      "TRIAL 16 COMPLETE ✔\n",
      "End Time: 2023-11-28 13:00:57\n",
      "Total runtime for this trial (minutes/seconds): 00:20\n",
      "----------------------------------------\n",
      "Total hill visits: 12\n",
      "Total prediction errors: 96\n",
      "Total search depth: 38265\n",
      "Total times memory accessed: 112158\n",
      "Total times 24 >= t < 49: 0\n",
      "Total times 49 >= t < 74: 0\n",
      "Total times 74 >= t < 99: 0\n",
      "Total times t == 99: 0\n",
      "Total time steps survived: 328\n",
      "Total runtime so far (hours/minutes/seconds): 00:01:20\n",
      "----------------------------------------\n",
      "\n",
      "----------------------------------------\n",
      "TRIAL 17 STARTED\n",
      "----------------------------------------\n",
      "Start Time: 2023-11-28 13:00:57\n"
     ]
    },
    {
     "name": "stdout",
     "output_type": "stream",
     "text": [
      "At time 20 the agent is dead.\n",
      "The agent had: 1 food, -1 water, and 4 sleep.\n",
      "The total tree search depth for this trial was 875.\n",
      "The agent accessed its memory 2211 times.\n",
      "The agent cleared its short-term memory 3 times.\n",
      "    State prediction error memory resets: 2.\n",
      "    Hill memory resets: 1.\n"
     ]
    },
    {
     "name": "stderr",
     "output_type": "stream",
     "text": [
      "TRIAL 17 COMPLETE ✔\n",
      "End Time: 2023-11-28 13:00:59\n",
      "Total runtime for this trial (minutes/seconds): 00:01\n",
      "----------------------------------------\n",
      "Total hill visits: 13\n",
      "Total prediction errors: 98\n",
      "Total search depth: 39140\n",
      "Total times memory accessed: 114369\n",
      "Total times 24 >= t < 49: 0\n",
      "Total times 49 >= t < 74: 0\n",
      "Total times 74 >= t < 99: 0\n",
      "Total times t == 99: 0\n",
      "Total time steps survived: 348\n",
      "Total runtime so far (hours/minutes/seconds): 00:01:22\n",
      "----------------------------------------\n",
      "\n",
      "----------------------------------------\n",
      "TRIAL 18 STARTED\n",
      "----------------------------------------\n",
      "Start Time: 2023-11-28 13:00:59\n"
     ]
    },
    {
     "name": "stdout",
     "output_type": "stream",
     "text": [
      "At time 20 the agent is dead.\n",
      "The agent had: 1 food, -1 water, and 4 sleep.\n",
      "The total tree search depth for this trial was 5940.\n",
      "The agent accessed its memory 24972 times.\n",
      "The agent cleared its short-term memory 10 times.\n",
      "    State prediction error memory resets: 9.\n",
      "    Hill memory resets: 1.\n"
     ]
    },
    {
     "name": "stderr",
     "output_type": "stream",
     "text": [
      "TRIAL 18 COMPLETE ✔\n",
      "End Time: 2023-11-28 13:01:17\n",
      "Total runtime for this trial (minutes/seconds): 00:17\n",
      "----------------------------------------\n",
      "Total hill visits: 14\n",
      "Total prediction errors: 107\n",
      "Total search depth: 45080\n",
      "Total times memory accessed: 139341\n",
      "Total times 24 >= t < 49: 0\n",
      "Total times 49 >= t < 74: 0\n",
      "Total times 74 >= t < 99: 0\n",
      "Total times t == 99: 0\n",
      "Total time steps survived: 368\n",
      "Total runtime so far (hours/minutes/seconds): 00:01:40\n",
      "----------------------------------------\n",
      "\n",
      "----------------------------------------\n",
      "TRIAL 19 STARTED\n",
      "----------------------------------------\n",
      "Start Time: 2023-11-28 13:01:17\n"
     ]
    },
    {
     "name": "stdout",
     "output_type": "stream",
     "text": [
      "At time 20 the agent is dead.\n",
      "The agent had: 1 food, -1 water, and 10 sleep.\n",
      "The total tree search depth for this trial was 6454.\n",
      "The agent accessed its memory 25004 times.\n",
      "The agent cleared its short-term memory 3 times.\n",
      "    State prediction error memory resets: 2.\n",
      "    Hill memory resets: 1.\n"
     ]
    },
    {
     "name": "stderr",
     "output_type": "stream",
     "text": [
      "TRIAL 19 COMPLETE ✔\n",
      "End Time: 2023-11-28 13:01:35\n",
      "Total runtime for this trial (minutes/seconds): 00:18\n",
      "----------------------------------------\n",
      "Total hill visits: 15\n",
      "Total prediction errors: 109\n",
      "Total search depth: 51534\n",
      "Total times memory accessed: 164345\n",
      "Total times 24 >= t < 49: 0\n",
      "Total times 49 >= t < 74: 0\n",
      "Total times 74 >= t < 99: 0\n",
      "Total times t == 99: 0\n",
      "Total time steps survived: 388\n",
      "Total runtime so far (hours/minutes/seconds): 00:01:58\n",
      "----------------------------------------\n",
      "\n",
      "----------------------------------------\n",
      "TRIAL 20 STARTED\n",
      "----------------------------------------\n",
      "Start Time: 2023-11-28 13:01:35\n"
     ]
    },
    {
     "name": "stdout",
     "output_type": "stream",
     "text": [
      "At time 28 the agent is dead.\n",
      "The agent had: -1 food, 10 water, and 18 sleep.\n",
      "The total tree search depth for this trial was 21221.\n",
      "The agent accessed its memory 80091 times.\n",
      "The agent cleared its short-term memory 4 times.\n",
      "    State prediction error memory resets: 3.\n",
      "    Hill memory resets: 1.\n"
     ]
    },
    {
     "name": "stderr",
     "output_type": "stream",
     "text": [
      "TRIAL 20 COMPLETE ✔\n",
      "End Time: 2023-11-28 13:02:33\n",
      "Total runtime for this trial (minutes/seconds): 00:57\n",
      "----------------------------------------\n",
      "Total hill visits: 16\n",
      "Total prediction errors: 112\n",
      "Total search depth: 72755\n",
      "Total times memory accessed: 244436\n",
      "Total times 24 >= t < 49: 1\n",
      "Total times 49 >= t < 74: 0\n",
      "Total times 74 >= t < 99: 0\n",
      "Total times t == 99: 0\n",
      "Total time steps survived: 416\n",
      "Total runtime so far (hours/minutes/seconds): 00:02:56\n",
      "----------------------------------------\n",
      "\n",
      "----------------------------------------\n",
      "TRIAL 21 STARTED\n",
      "----------------------------------------\n",
      "Start Time: 2023-11-28 13:02:33\n"
     ]
    },
    {
     "name": "stdout",
     "output_type": "stream",
     "text": [
      "At time 20 the agent is dead.\n",
      "The agent had: 1 food, -1 water, and 4 sleep.\n",
      "The total tree search depth for this trial was 12982.\n",
      "The agent accessed its memory 53920 times.\n",
      "The agent cleared its short-term memory 6 times.\n",
      "    State prediction error memory resets: 5.\n",
      "    Hill memory resets: 1.\n"
     ]
    },
    {
     "name": "stderr",
     "output_type": "stream",
     "text": [
      "TRIAL 21 COMPLETE ✔\n",
      "End Time: 2023-11-28 13:03:12\n",
      "Total runtime for this trial (minutes/seconds): 00:38\n",
      "----------------------------------------\n",
      "Total hill visits: 17\n",
      "Total prediction errors: 117\n",
      "Total search depth: 85737\n",
      "Total times memory accessed: 298356\n",
      "Total times 24 >= t < 49: 1\n",
      "Total times 49 >= t < 74: 0\n",
      "Total times 74 >= t < 99: 0\n",
      "Total times t == 99: 0\n",
      "Total time steps survived: 436\n",
      "Total runtime so far (hours/minutes/seconds): 00:03:35\n",
      "----------------------------------------\n",
      "\n",
      "----------------------------------------\n",
      "TRIAL 22 STARTED\n",
      "----------------------------------------\n",
      "Start Time: 2023-11-28 13:03:12\n"
     ]
    },
    {
     "name": "stdout",
     "output_type": "stream",
     "text": [
      "At time 20 the agent is dead.\n",
      "The agent had: 1 food, -1 water, and 4 sleep.\n",
      "The total tree search depth for this trial was 1435.\n",
      "The agent accessed its memory 4109 times.\n",
      "The agent cleared its short-term memory 2 times.\n",
      "    State prediction error memory resets: 1.\n",
      "    Hill memory resets: 1.\n"
     ]
    },
    {
     "name": "stderr",
     "output_type": "stream",
     "text": [
      "TRIAL 22 COMPLETE ✔\n",
      "End Time: 2023-11-28 13:03:15\n",
      "Total runtime for this trial (minutes/seconds): 00:03\n",
      "----------------------------------------\n",
      "Total hill visits: 18\n",
      "Total prediction errors: 118\n",
      "Total search depth: 87172\n",
      "Total times memory accessed: 302465\n",
      "Total times 24 >= t < 49: 1\n",
      "Total times 49 >= t < 74: 0\n",
      "Total times 74 >= t < 99: 0\n",
      "Total times t == 99: 0\n",
      "Total time steps survived: 456\n",
      "Total runtime so far (hours/minutes/seconds): 00:03:38\n",
      "----------------------------------------\n",
      "\n",
      "----------------------------------------\n",
      "TRIAL 23 STARTED\n",
      "----------------------------------------\n",
      "Start Time: 2023-11-28 13:03:15\n"
     ]
    },
    {
     "name": "stdout",
     "output_type": "stream",
     "text": [
      "At time 28 the agent is dead.\n",
      "The agent had: -1 food, 16 water, and 17 sleep.\n",
      "The total tree search depth for this trial was 26404.\n",
      "The agent accessed its memory 89275 times.\n",
      "The agent cleared its short-term memory 5 times.\n",
      "    State prediction error memory resets: 4.\n",
      "    Hill memory resets: 1.\n"
     ]
    },
    {
     "name": "stderr",
     "output_type": "stream",
     "text": [
      "TRIAL 23 COMPLETE ✔\n",
      "End Time: 2023-11-28 13:04:20\n",
      "Total runtime for this trial (minutes/seconds): 01:05\n",
      "----------------------------------------\n",
      "Total hill visits: 19\n",
      "Total prediction errors: 122\n",
      "Total search depth: 113576\n",
      "Total times memory accessed: 391740\n",
      "Total times 24 >= t < 49: 2\n",
      "Total times 49 >= t < 74: 0\n",
      "Total times 74 >= t < 99: 0\n",
      "Total times t == 99: 0\n",
      "Total time steps survived: 484\n",
      "Total runtime so far (hours/minutes/seconds): 00:04:44\n",
      "----------------------------------------\n",
      "\n",
      "----------------------------------------\n",
      "TRIAL 24 STARTED\n",
      "----------------------------------------\n",
      "Start Time: 2023-11-28 13:04:20\n"
     ]
    },
    {
     "name": "stdout",
     "output_type": "stream",
     "text": [
      "At time 20 the agent is dead.\n",
      "The agent had: 1 food, -1 water, and 4 sleep.\n",
      "The total tree search depth for this trial was 1659.\n",
      "The agent accessed its memory 5781 times.\n",
      "The agent cleared its short-term memory 9 times.\n",
      "    State prediction error memory resets: 8.\n",
      "    Hill memory resets: 1.\n"
     ]
    },
    {
     "name": "stderr",
     "output_type": "stream",
     "text": [
      "TRIAL 24 COMPLETE ✔\n",
      "End Time: 2023-11-28 13:04:25\n",
      "Total runtime for this trial (minutes/seconds): 00:04\n",
      "----------------------------------------\n",
      "Total hill visits: 20\n",
      "Total prediction errors: 130\n",
      "Total search depth: 115235\n",
      "Total times memory accessed: 397521\n",
      "Total times 24 >= t < 49: 2\n",
      "Total times 49 >= t < 74: 0\n",
      "Total times 74 >= t < 99: 0\n",
      "Total times t == 99: 0\n",
      "Total time steps survived: 504\n",
      "Total runtime so far (hours/minutes/seconds): 00:04:48\n",
      "----------------------------------------\n",
      "\n",
      "----------------------------------------\n",
      "TRIAL 25 STARTED\n",
      "----------------------------------------\n",
      "Start Time: 2023-11-28 13:04:25\n"
     ]
    },
    {
     "name": "stdout",
     "output_type": "stream",
     "text": [
      "At time 20 the agent is dead.\n",
      "The agent had: 1 food, -1 water, and 14 sleep.\n",
      "The total tree search depth for this trial was 12805.\n",
      "The agent accessed its memory 49562 times.\n",
      "The agent cleared its short-term memory 9 times.\n",
      "    State prediction error memory resets: 7.\n",
      "    Hill memory resets: 2.\n"
     ]
    },
    {
     "name": "stderr",
     "output_type": "stream",
     "text": [
      "TRIAL 25 COMPLETE ✔\n",
      "End Time: 2023-11-28 13:05:00\n",
      "Total runtime for this trial (minutes/seconds): 00:34\n",
      "----------------------------------------\n",
      "Total hill visits: 22\n",
      "Total prediction errors: 137\n",
      "Total search depth: 128040\n",
      "Total times memory accessed: 447083\n",
      "Total times 24 >= t < 49: 2\n",
      "Total times 49 >= t < 74: 0\n",
      "Total times 74 >= t < 99: 0\n",
      "Total times t == 99: 0\n",
      "Total time steps survived: 524\n",
      "Total runtime so far (hours/minutes/seconds): 00:05:23\n",
      "----------------------------------------\n",
      "\n",
      "----------------------------------------\n",
      "TRIAL 26 STARTED\n",
      "----------------------------------------\n",
      "Start Time: 2023-11-28 13:05:00\n"
     ]
    },
    {
     "name": "stdout",
     "output_type": "stream",
     "text": [
      "At time 25 the agent is dead.\n",
      "The agent had: 19 food, 2 water, and -1 sleep.\n",
      "The total tree search depth for this trial was 28279.\n",
      "The agent accessed its memory 107121 times.\n",
      "The agent cleared its short-term memory 5 times.\n",
      "    State prediction error memory resets: 3.\n",
      "    Hill memory resets: 2.\n"
     ]
    },
    {
     "name": "stderr",
     "output_type": "stream",
     "text": [
      "TRIAL 26 COMPLETE ✔\n",
      "End Time: 2023-11-28 13:06:15\n",
      "Total runtime for this trial (minutes/seconds): 01:15\n",
      "----------------------------------------\n",
      "Total hill visits: 24\n",
      "Total prediction errors: 140\n",
      "Total search depth: 156319\n",
      "Total times memory accessed: 554204\n",
      "Total times 24 >= t < 49: 3\n",
      "Total times 49 >= t < 74: 0\n",
      "Total times 74 >= t < 99: 0\n",
      "Total times t == 99: 0\n",
      "Total time steps survived: 549\n",
      "Total runtime so far (hours/minutes/seconds): 00:06:39\n",
      "----------------------------------------\n",
      "\n",
      "----------------------------------------\n",
      "TRIAL 27 STARTED\n",
      "----------------------------------------\n",
      "Start Time: 2023-11-28 13:06:15\n"
     ]
    },
    {
     "name": "stdout",
     "output_type": "stream",
     "text": [
      "At time 28 the agent is dead.\n",
      "The agent had: -1 food, 15 water, and 21 sleep.\n",
      "The total tree search depth for this trial was 25844.\n",
      "The agent accessed its memory 93201 times.\n",
      "The agent cleared its short-term memory 5 times.\n",
      "    State prediction error memory resets: 4.\n",
      "    Hill memory resets: 1.\n"
     ]
    },
    {
     "name": "stderr",
     "output_type": "stream",
     "text": [
      "TRIAL 27 COMPLETE ✔\n",
      "End Time: 2023-11-28 13:07:21\n",
      "Total runtime for this trial (minutes/seconds): 01:05\n",
      "----------------------------------------\n",
      "Total hill visits: 25\n",
      "Total prediction errors: 144\n",
      "Total search depth: 182163\n",
      "Total times memory accessed: 647405\n",
      "Total times 24 >= t < 49: 4\n",
      "Total times 49 >= t < 74: 0\n",
      "Total times 74 >= t < 99: 0\n",
      "Total times t == 99: 0\n",
      "Total time steps survived: 577\n",
      "Total runtime so far (hours/minutes/seconds): 00:07:44\n",
      "----------------------------------------\n",
      "\n",
      "----------------------------------------\n",
      "TRIAL 28 STARTED\n",
      "----------------------------------------\n",
      "Start Time: 2023-11-28 13:07:21\n"
     ]
    },
    {
     "name": "stdout",
     "output_type": "stream",
     "text": [
      "At time 28 the agent is dead.\n",
      "The agent had: 9 food, -1 water, and 16 sleep.\n",
      "The total tree search depth for this trial was 35972.\n",
      "The agent accessed its memory 141649 times.\n",
      "The agent cleared its short-term memory 10 times.\n",
      "    State prediction error memory resets: 9.\n",
      "    Hill memory resets: 1.\n"
     ]
    },
    {
     "name": "stderr",
     "output_type": "stream",
     "text": [
      "TRIAL 28 COMPLETE ✔\n",
      "End Time: 2023-11-28 13:09:01\n",
      "Total runtime for this trial (minutes/seconds): 01:40\n",
      "----------------------------------------\n",
      "Total hill visits: 26\n",
      "Total prediction errors: 153\n",
      "Total search depth: 218135\n",
      "Total times memory accessed: 789054\n",
      "Total times 24 >= t < 49: 5\n",
      "Total times 49 >= t < 74: 0\n",
      "Total times 74 >= t < 99: 0\n",
      "Total times t == 99: 0\n",
      "Total time steps survived: 605\n",
      "Total runtime so far (hours/minutes/seconds): 00:09:25\n",
      "----------------------------------------\n",
      "\n",
      "----------------------------------------\n",
      "TRIAL 29 STARTED\n",
      "----------------------------------------\n",
      "Start Time: 2023-11-28 13:09:01\n"
     ]
    },
    {
     "name": "stdout",
     "output_type": "stream",
     "text": [
      "At time 20 the agent is dead.\n",
      "The agent had: 1 food, -1 water, and 4 sleep.\n",
      "The total tree search depth for this trial was 3507.\n",
      "The agent accessed its memory 12136 times.\n",
      "The agent cleared its short-term memory 10 times.\n",
      "    State prediction error memory resets: 9.\n",
      "    Hill memory resets: 1.\n"
     ]
    },
    {
     "name": "stderr",
     "output_type": "stream",
     "text": [
      "TRIAL 29 COMPLETE ✔\n",
      "End Time: 2023-11-28 13:09:10\n",
      "Total runtime for this trial (minutes/seconds): 00:08\n",
      "----------------------------------------\n",
      "Total hill visits: 27\n",
      "Total prediction errors: 162\n",
      "Total search depth: 221642\n",
      "Total times memory accessed: 801190\n",
      "Total times 24 >= t < 49: 5\n",
      "Total times 49 >= t < 74: 0\n",
      "Total times 74 >= t < 99: 0\n",
      "Total times t == 99: 0\n",
      "Total time steps survived: 625\n",
      "Total runtime so far (hours/minutes/seconds): 00:09:33\n",
      "----------------------------------------\n",
      "\n",
      "----------------------------------------\n",
      "TRIAL 30 STARTED\n",
      "----------------------------------------\n",
      "Start Time: 2023-11-28 13:09:10\n"
     ]
    },
    {
     "name": "stdout",
     "output_type": "stream",
     "text": [
      "At time 20 the agent is dead.\n",
      "The agent had: 1 food, -1 water, and 4 sleep.\n",
      "The total tree search depth for this trial was 2215.\n",
      "The agent accessed its memory 6247 times.\n",
      "The agent cleared its short-term memory 3 times.\n",
      "    State prediction error memory resets: 2.\n",
      "    Hill memory resets: 1.\n"
     ]
    },
    {
     "name": "stderr",
     "output_type": "stream",
     "text": [
      "TRIAL 30 COMPLETE ✔\n",
      "End Time: 2023-11-28 13:09:14\n",
      "Total runtime for this trial (minutes/seconds): 00:04\n",
      "----------------------------------------\n",
      "Total hill visits: 28\n",
      "Total prediction errors: 164\n",
      "Total search depth: 223857\n",
      "Total times memory accessed: 807437\n",
      "Total times 24 >= t < 49: 5\n",
      "Total times 49 >= t < 74: 0\n",
      "Total times 74 >= t < 99: 0\n",
      "Total times t == 99: 0\n",
      "Total time steps survived: 645\n",
      "Total runtime so far (hours/minutes/seconds): 00:09:38\n",
      "----------------------------------------\n",
      "EXPERIMENT COMPLETE ✔.\n",
      "End Time: 2023-11-28 13:09:14\n",
      "TOTAL RUNTIME (hours/minutes/seconds): 00:09:38\n",
      "AVERAGE RUNTIME PER TIME STEP: 0.896 seconds\n",
      "Average hill visits per time step: 0.043\n",
      "Average prediction errors per time step: 0.254\n",
      "Average search depth per time step: 347\n",
      "Average times memory accessed per time step: 1252\n",
      "----------------------------------------\n"
     ]
    }
   ],
   "source": [
    "\n",
    "# Experiments\n",
    "trials_data = []\n",
    "total_start_time = datetime.now()\n",
    "total_hill_resets = 0\n",
    "total_pe_resets = 0\n",
    "total_memory_accessed = 0\n",
    "total_search_depth = 0\n",
    "t_at25 = 0\n",
    "t_at50 = 0\n",
    "t_at75 = 0\n",
    "t_at100 = 0\n",
    "total_t = 0\n",
    "\n",
    "for trial in range(num_trials):\n",
    "    logging.info(f\"\\n{'-' * 40}\\nTRIAL {trial+1} STARTED\\n{'-' * 40}\")\n",
    "    trial_start_time = datetime.now()\n",
    "    logging.info(f\"Start Time: {trial_start_time.strftime('%Y-%m-%d %H:%M:%S')}\")\n",
    "\n",
    "    if VISUALISE and ax is not None: ax.clear()\n",
    "    a, trial_data = agent_loop(\n",
    "        a, \n",
    "        resource_constraints, \n",
    "        A, \n",
    "        B, \n",
    "        b, \n",
    "        D,\n",
    "        t_constraint, \n",
    "        contextual_food_locations, \n",
    "        contextual_sleep_locations, \n",
    "        contextual_water_locations, \n",
    "        num_modalities, \n",
    "        num_states,\n",
    "        num_factors,             \n",
    "        num_contextual_states,   \n",
    "        num_resource_observations,  \n",
    "        num_context_observations,   \n",
    "        hill_1,             \n",
    "        weights,          \n",
    "        G_prior,\n",
    "        start_position,     \n",
    "        visualise = VISUALISE,     \n",
    "        ax = ax\n",
    "    )\n",
    "    trials_data.append(trial_data)\n",
    "\n",
    "    if trial_data[\"time_steps\"] >= 24 and trial_data[\"time_steps\"] < 49:\n",
    "        t_at25 = t_at25 + 1\n",
    "    elif trial_data[\"time_steps\"] >= 49 and trial_data[\"time_steps\"] < 74:\n",
    "        t_at50 = t_at50 + 1\n",
    "    elif trial_data[\"time_steps\"] >= 74 and trial_data[\"time_steps\"] < 99:\n",
    "        t_at75 = t_at75 + 1\n",
    "    elif trial_data[\"time_steps\"] == 99:\n",
    "        t_at100 = t_at100 + 1\n",
    "\n",
    "    total_t += trial_data[\"time_steps\"]-1\n",
    "    total_hill_resets += trial_data[\"hill_memory_resets\"]\n",
    "    total_pe_resets += trial_data[\"pe_memory_resets\"]\n",
    "    total_search_depth += trial_data[\"search_depth\"]\n",
    "    total_memory_accessed += trial_data[\"memory_accessed\"]\n",
    "    \n",
    "    # Calculate total runtime for the latest trial\n",
    "    trial_end_time = datetime.now()    \n",
    "    runtime = trial_end_time - trial_start_time\n",
    "    minutes, seconds = divmod(runtime.seconds, 60)\n",
    "    \n",
    "    logging.info(f\"TRIAL {trial+1} COMPLETE ✔\")\n",
    "    logging.info(f\"End Time: {trial_end_time.strftime('%Y-%m-%d %H:%M:%S')}\")\n",
    "    logging.info(f\"Total runtime for this trial (minutes/seconds): {minutes:02d}:{seconds:02d}\")\n",
    "    logging.info(f\"{'-' * 40}\")\n",
    "    logging.info(f\"Total hill visits: {total_hill_resets}\")\n",
    "    logging.info(f\"Total prediction errors: {total_pe_resets}\")\n",
    "    logging.info(f\"Total search depth: {total_search_depth}\")\n",
    "    logging.info(f\"Total times memory accessed: {total_memory_accessed}\")\n",
    "    logging.info(f\"Total times 24 >= t < 49: {t_at25}\")\n",
    "    logging.info(f\"Total times 49 >= t < 74: {t_at50}\")\n",
    "    logging.info(f\"Total times 74 >= t < 99: {t_at75}\")\n",
    "    logging.info(f\"Total times t == 99: {t_at100}\")\n",
    "    logging.info(f\"Total time steps survived: {total_t}\")\n",
    "    # Calculate total run time so far\n",
    "    runtime = trial_end_time - total_start_time\n",
    "    hours, remainder = divmod(runtime.seconds, 3600)\n",
    "    minutes, seconds = divmod(remainder, 60)\n",
    "    logging.info(f\"Total runtime so far (hours/minutes/seconds): {hours:02d}:{minutes:02d}:{seconds:02d}\")\n",
    "    logging.info(f\"{'-' * 40}\")\n",
    "\n",
    "# Calculate total run time for all trials\n",
    "total_end_time = datetime.now()\n",
    "runtime = total_end_time - total_start_time\n",
    "hours, remainder = divmod(runtime.seconds, 3600)\n",
    "minutes, seconds = divmod(remainder, 60)\n",
    "logging.info(f\"EXPERIMENT COMPLETE ✔.\")\n",
    "logging.info(f\"End Time: {total_end_time.strftime('%Y-%m-%d %H:%M:%S')}\")\n",
    "logging.info(f\"TOTAL RUNTIME (hours/minutes/seconds): {hours:02d}:{minutes:02d}:{seconds:02d}\")\n",
    "logging.info(f\"AVERAGE RUNTIME PER TIME STEP: {round_half_up((runtime.total_seconds() / total_t), 3)} seconds\")\n",
    "logging.info(f\"Average hill visits per time step: {round_half_up(total_hill_resets / total_t,3)}\")\n",
    "logging.info(f\"Average prediction errors per time step: {round_half_up(total_pe_resets / total_t,3)}\")\n",
    "logging.info(f\"Average search depth per time step: {round_half_up(total_search_depth / total_t)}\")\n",
    "logging.info(f\"Average times memory accessed per time step: {round_half_up(total_memory_accessed / total_t)}\")\n",
    "logging.info(f\"{'-' * 40}\")"
   ]
  },
  {
   "cell_type": "markdown",
   "metadata": {},
   "source": []
  },
  {
   "cell_type": "code",
   "execution_count": null,
   "metadata": {},
   "outputs": [],
   "source": []
  }
 ],
 "metadata": {
  "kernelspec": {
   "display_name": "Python 3",
   "language": "python",
   "name": "python3"
  },
  "language_info": {
   "codemirror_mode": {
    "name": "ipython",
    "version": 3
   },
   "file_extension": ".py",
   "mimetype": "text/x-python",
   "name": "python",
   "nbconvert_exporter": "python",
   "pygments_lexer": "ipython3",
   "version": "3.10.12"
  },
  "orig_nbformat": 4
 },
 "nbformat": 4,
 "nbformat_minor": 2
}
